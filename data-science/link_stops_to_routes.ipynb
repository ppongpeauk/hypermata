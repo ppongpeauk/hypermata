{
 "cells": [
  {
   "cell_type": "code",
   "execution_count": 1,
   "metadata": {},
   "outputs": [
    {
     "name": "stdout",
     "output_type": "stream",
     "text": [
      "Processed 125 stops with their associated routes\n"
     ]
    },
    {
     "data": {
      "text/plain": [
       "[('PF_A15_C', ['RED']),\n",
       " ('PF_A14_C', ['RED']),\n",
       " ('PF_A13_C', ['RED']),\n",
       " ('PF_A12_C', ['RED']),\n",
       " ('PF_A11_C', ['RED'])]"
      ]
     },
     "execution_count": 1,
     "metadata": {},
     "output_type": "execute_result"
    }
   ],
   "source": [
    "import pandas as pd\n",
    "import json\n",
    "from collections import defaultdict\n",
    "\n",
    "# Read the input files\n",
    "stops_df = pd.read_csv('input/stops.txt')\n",
    "trips_df = pd.read_csv('input/trips.txt')\n",
    "stop_times_df = pd.read_csv('input/stop_times.txt')\n",
    "\n",
    "# Create a mapping of trip_id to route_id\n",
    "trip_to_route = dict(zip(trips_df['trip_id'], trips_df['route_id']))\n",
    "\n",
    "# Create a mapping of stop_id to route_ids\n",
    "stop_to_routes = defaultdict(set)\n",
    "\n",
    "# For each stop_time entry, get the route_id through the trip_id\n",
    "for _, row in stop_times_df.iterrows():\n",
    "    stop_id = row['stop_id']\n",
    "    trip_id = row['trip_id']\n",
    "    if trip_id in trip_to_route:\n",
    "        route_id = trip_to_route[trip_id]\n",
    "        stop_to_routes[stop_id].add(route_id)\n",
    "\n",
    "# Convert sets to lists for JSON serialization\n",
    "stop_routes_dict = {stop_id: list(routes) for stop_id, routes in stop_to_routes.items()}\n",
    "\n",
    "# Save the results\n",
    "with open('output/stop_routes.json', 'w') as f:\n",
    "    json.dump(stop_routes_dict, f, indent=2)\n",
    "\n",
    "print(f\"Processed {len(stop_routes_dict)} stops with their associated routes\")\n",
    "\n",
    "# Display a sample of the results\n",
    "list(stop_routes_dict.items())[:5]"
   ]
  },
  {
   "cell_type": "code",
   "execution_count": null,
   "metadata": {},
   "outputs": [],
   "source": []
  }
 ],
 "metadata": {
  "kernelspec": {
   "display_name": "base",
   "language": "python",
   "name": "python3"
  },
  "language_info": {
   "codemirror_mode": {
    "name": "ipython",
    "version": 3
   },
   "file_extension": ".py",
   "mimetype": "text/x-python",
   "name": "python",
   "nbconvert_exporter": "python",
   "pygments_lexer": "ipython3",
   "version": "3.11.7"
  }
 },
 "nbformat": 4,
 "nbformat_minor": 2
}
