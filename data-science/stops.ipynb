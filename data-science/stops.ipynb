{
 "cells": [
  {
   "cell_type": "code",
   "execution_count": 1,
   "metadata": {},
   "outputs": [],
   "source": [
    "import pandas as pd\n",
    "\n",
    "# Read the stops.txt file as a CSV\n",
    "stops_df = pd.read_csv('./input/stops.txt')\n",
    "\n",
    "# Add agency_id column\n",
    "stops_df['agency_id'] = 'WMATA_RAIL'\n"
   ]
  },
  {
   "cell_type": "code",
   "execution_count": 2,
   "metadata": {},
   "outputs": [
    {
     "data": {
      "text/html": [
       "<div>\n",
       "<style scoped>\n",
       "    .dataframe tbody tr th:only-of-type {\n",
       "        vertical-align: middle;\n",
       "    }\n",
       "\n",
       "    .dataframe tbody tr th {\n",
       "        vertical-align: top;\n",
       "    }\n",
       "\n",
       "    .dataframe thead th {\n",
       "        text-align: right;\n",
       "    }\n",
       "</style>\n",
       "<table border=\"1\" class=\"dataframe\">\n",
       "  <thead>\n",
       "    <tr style=\"text-align: right;\">\n",
       "      <th></th>\n",
       "      <th>stop_id</th>\n",
       "      <th>stop_name</th>\n",
       "      <th>stop_desc</th>\n",
       "      <th>stop_lat</th>\n",
       "      <th>stop_lon</th>\n",
       "      <th>zone_id</th>\n",
       "      <th>location_type</th>\n",
       "      <th>parent_station</th>\n",
       "      <th>wheelchair_boarding</th>\n",
       "      <th>level_id</th>\n",
       "      <th>agency_id</th>\n",
       "    </tr>\n",
       "  </thead>\n",
       "  <tbody>\n",
       "    <tr>\n",
       "      <th>0</th>\n",
       "      <td>STN_N06</td>\n",
       "      <td>WIEHLE-RESTON EAST METRORAIL STATION</td>\n",
       "      <td>NaN</td>\n",
       "      <td>38.947832</td>\n",
       "      <td>-77.340316</td>\n",
       "      <td>91</td>\n",
       "      <td>1</td>\n",
       "      <td>NaN</td>\n",
       "      <td>1</td>\n",
       "      <td>NaN</td>\n",
       "      <td>WMATA_RAIL</td>\n",
       "    </tr>\n",
       "    <tr>\n",
       "      <th>1</th>\n",
       "      <td>STN_N04</td>\n",
       "      <td>SPRING HILL METRORAIL STATION</td>\n",
       "      <td>NaN</td>\n",
       "      <td>38.929212</td>\n",
       "      <td>-77.241891</td>\n",
       "      <td>90</td>\n",
       "      <td>1</td>\n",
       "      <td>NaN</td>\n",
       "      <td>1</td>\n",
       "      <td>NaN</td>\n",
       "      <td>WMATA_RAIL</td>\n",
       "    </tr>\n",
       "    <tr>\n",
       "      <th>2</th>\n",
       "      <td>STN_N03</td>\n",
       "      <td>GREENSBORO METRORAIL STATION</td>\n",
       "      <td>NaN</td>\n",
       "      <td>38.921269</td>\n",
       "      <td>-77.234162</td>\n",
       "      <td>89</td>\n",
       "      <td>1</td>\n",
       "      <td>NaN</td>\n",
       "      <td>1</td>\n",
       "      <td>NaN</td>\n",
       "      <td>WMATA_RAIL</td>\n",
       "    </tr>\n",
       "    <tr>\n",
       "      <th>3</th>\n",
       "      <td>STN_N02</td>\n",
       "      <td>TYSONS METRORAIL STATION</td>\n",
       "      <td>NaN</td>\n",
       "      <td>38.920685</td>\n",
       "      <td>-77.221589</td>\n",
       "      <td>88</td>\n",
       "      <td>1</td>\n",
       "      <td>NaN</td>\n",
       "      <td>1</td>\n",
       "      <td>NaN</td>\n",
       "      <td>WMATA_RAIL</td>\n",
       "    </tr>\n",
       "    <tr>\n",
       "      <th>4</th>\n",
       "      <td>STN_N01</td>\n",
       "      <td>MCLEAN METRORAIL STATION</td>\n",
       "      <td>NaN</td>\n",
       "      <td>38.924339</td>\n",
       "      <td>-77.210530</td>\n",
       "      <td>87</td>\n",
       "      <td>1</td>\n",
       "      <td>NaN</td>\n",
       "      <td>1</td>\n",
       "      <td>NaN</td>\n",
       "      <td>WMATA_RAIL</td>\n",
       "    </tr>\n",
       "  </tbody>\n",
       "</table>\n",
       "</div>"
      ],
      "text/plain": [
       "   stop_id                             stop_name stop_desc   stop_lat  \\\n",
       "0  STN_N06  WIEHLE-RESTON EAST METRORAIL STATION       NaN  38.947832   \n",
       "1  STN_N04         SPRING HILL METRORAIL STATION       NaN  38.929212   \n",
       "2  STN_N03          GREENSBORO METRORAIL STATION       NaN  38.921269   \n",
       "3  STN_N02              TYSONS METRORAIL STATION       NaN  38.920685   \n",
       "4  STN_N01              MCLEAN METRORAIL STATION       NaN  38.924339   \n",
       "\n",
       "    stop_lon  zone_id  location_type parent_station  wheelchair_boarding  \\\n",
       "0 -77.340316       91              1            NaN                    1   \n",
       "1 -77.241891       90              1            NaN                    1   \n",
       "2 -77.234162       89              1            NaN                    1   \n",
       "3 -77.221589       88              1            NaN                    1   \n",
       "4 -77.210530       87              1            NaN                    1   \n",
       "\n",
       "  level_id   agency_id  \n",
       "0      NaN  WMATA_RAIL  \n",
       "1      NaN  WMATA_RAIL  \n",
       "2      NaN  WMATA_RAIL  \n",
       "3      NaN  WMATA_RAIL  \n",
       "4      NaN  WMATA_RAIL  "
      ]
     },
     "execution_count": 2,
     "metadata": {},
     "output_type": "execute_result"
    }
   ],
   "source": [
    "stops_df.head()"
   ]
  },
  {
   "cell_type": "code",
   "execution_count": 3,
   "metadata": {},
   "outputs": [],
   "source": [
    "# Convert the dataframe to a JSON file with the first row as header keys\n",
    "jsonified = stops_df.to_json(orient='records', indent=4, lines=False)"
   ]
  },
  {
   "cell_type": "code",
   "execution_count": 7,
   "metadata": {},
   "outputs": [
    {
     "name": "stdout",
     "output_type": "stream",
     "text": [
      "{'PF_A15_C': ['RED'], 'PF_A14_C': ['RED'], 'PF_A13_C': ['RED'], 'PF_A12_C': ['RED'], 'PF_A11_C': ['RED'], 'PF_A10_C': ['RED'], 'PF_A09_C': ['RED'], 'PF_A08_C': ['RED'], 'PF_A07_C': ['RED'], 'PF_A06_C': ['RED'], 'PF_A05_C': ['RED'], 'PF_A04_C': ['RED'], 'PF_A03_1': ['RED'], 'PF_A02_C': ['SHUTTLE', 'RED'], 'PF_A01_1': ['SHUTTLE', 'RED'], 'PF_B01_1': ['RED'], 'PF_B02_1': ['RED'], 'PF_B03_C': ['RED'], 'PF_B35_C': ['RED'], 'PF_B04_C': ['RED'], 'PF_B05_C': ['RED'], 'PF_B06_C': ['RED'], 'PF_B07_C': ['RED'], 'PF_B08_C': ['RED'], 'PF_B09_C': ['RED'], 'PF_B10_C': ['RED'], 'PF_B11_C': ['RED'], 'PF_B02_2': ['RED'], 'PF_B01_2': ['RED'], 'PF_A01_2': ['RED'], 'PF_A03_2': ['RED'], 'PF_G05_C': ['SILVER', 'BLUE'], 'PF_G04_C': ['SILVER', 'BLUE'], 'PF_G03_C': ['SILVER', 'BLUE'], 'PF_G02_C': ['SILVER', 'BLUE'], 'PF_G01_C': ['SILVER', 'BLUE'], 'PF_D08_C': ['SILVER', 'BLUE', 'ORANGE'], 'PF_D07_C': ['SILVER', 'BLUE', 'ORANGE'], 'PF_D06_C': ['SILVER', 'BLUE', 'ORANGE'], 'PF_D05_C': ['SILVER', 'BLUE', 'ORANGE'], 'PF_D04_C': ['SILVER', 'SHUTTLE', 'BLUE', 'ORANGE'], 'PF_D03_C': ['SILVER', 'BLUE', 'ORANGE'], 'PF_D02_2': ['SILVER', 'BLUE', 'ORANGE'], 'PF_D01_C': ['SILVER', 'SHUTTLE', 'BLUE', 'ORANGE'], 'PF_C01_C': ['SILVER', 'BLUE', 'ORANGE'], 'PF_C02_2': ['SILVER', 'BLUE', 'ORANGE'], 'PF_C03_2': ['SILVER', 'BLUE', 'ORANGE'], 'PF_C04_C': ['SILVER', 'SHUTTLE', 'BLUE', 'ORANGE'], 'PF_C05_2': ['SILVER', 'BLUE', 'ORANGE'], 'PF_C06_2': ['BLUE'], 'PF_C07_2': ['BLUE', 'YELLOW'], 'PF_C08_2': ['BLUE', 'YELLOW'], 'PF_C09_2': ['BLUE', 'YELLOW'], 'PF_C10_2': ['BLUE', 'YELLOW'], 'PF_C11_2': ['BLUE', 'YELLOW'], 'PF_C12_C': ['BLUE', 'YELLOW'], 'PF_C13_C': ['BLUE', 'YELLOW'], 'PF_J02_C': ['BLUE'], 'PF_J03_C': ['BLUE'], 'PF_C05_1': ['SILVER', 'BLUE', 'ORANGE'], 'PF_C11_1': ['BLUE', 'YELLOW'], 'PF_C10_1': ['BLUE', 'YELLOW'], 'PF_C09_1': ['BLUE', 'YELLOW'], 'PF_C08_1': ['BLUE', 'YELLOW'], 'PF_C07_1': ['BLUE', 'YELLOW'], 'PF_C06_1': ['BLUE'], 'PF_C03_1': ['SILVER', 'SHUTTLE', 'BLUE', 'ORANGE'], 'PF_C02_1': ['SILVER', 'SHUTTLE', 'BLUE', 'ORANGE'], 'PF_D02_1': ['SILVER', 'SHUTTLE', 'BLUE', 'ORANGE'], 'PF_F11_C': ['GREEN'], 'PF_F10_C': ['GREEN'], 'PF_F09_C': ['GREEN'], 'PF_F08_C': ['GREEN'], 'PF_F07_C': ['GREEN'], 'PF_F06_C': ['GREEN'], 'PF_F05_C': ['GREEN'], 'PF_F04_C': ['GREEN'], 'PF_F03_1': ['YELLOW', 'GREEN'], 'PF_F02_C': ['YELLOW', 'GREEN'], 'PF_F01_C': ['SHUTTLE', 'YELLOW', 'GREEN'], 'PF_E01_C': ['YELLOW', 'GREEN'], 'PF_E02_C': ['GREEN'], 'PF_E03_C': ['GREEN'], 'PF_E04_C': ['GREEN'], 'PF_E05_C': ['GREEN'], 'PF_E06_C': ['GREEN'], 'PF_E07_1': ['GREEN'], 'PF_E08_1': ['GREEN'], 'PF_E09_C': ['GREEN'], 'PF_E10_C': ['GREEN'], 'PF_F03_2': ['SHUTTLE', 'YELLOW', 'GREEN'], 'PF_E08_2': ['GREEN'], 'PF_E07_2': ['GREEN'], 'PF_C15_C': ['YELLOW'], 'PF_C14_1': ['YELLOW'], 'PF_C14_2': ['YELLOW'], 'PF_D13_C': ['SILVER', 'ORANGE'], 'PF_D12_C': ['SILVER', 'ORANGE'], 'PF_D11_2': ['SILVER', 'ORANGE'], 'PF_D10_C': ['SILVER', 'ORANGE'], 'PF_D09_C': ['SILVER', 'ORANGE'], 'PF_K01_C': ['SILVER', 'ORANGE'], 'PF_K02_2': ['SILVER', 'ORANGE'], 'PF_K03_2': ['SILVER', 'ORANGE'], 'PF_K04_2': ['SILVER', 'ORANGE'], 'PF_K05_C': ['SILVER', 'ORANGE'], 'PF_K06_2': ['ORANGE'], 'PF_K07_C': ['ORANGE'], 'PF_K08_C': ['ORANGE'], 'PF_K02_1': ['SILVER', 'ORANGE'], 'PF_K03_1': ['SILVER', 'ORANGE'], 'PF_K06_1': ['ORANGE'], 'PF_K04_1': ['SILVER', 'ORANGE'], 'PF_D11_1': ['ORANGE'], 'PF_N01_C': ['SILVER'], 'PF_N02_C': ['SILVER'], 'PF_N03_C': ['SILVER'], 'PF_N04_C': ['SILVER'], 'PF_N06_C': ['SILVER'], 'PF_N07_C': ['SILVER'], 'PF_N08_C': ['SILVER'], 'PF_N09_C': ['SILVER'], 'PF_N10_C': ['SILVER'], 'PF_N11_C': ['SILVER'], 'PF_N12_C': ['SILVER']}\n"
     ]
    }
   ],
   "source": [
    "import json\n",
    "\n",
    "# Read the stop_routes.json file\n",
    "stop_routes = json.load(open('./output/stop_routes.json'))\n",
    "print(stop_routes)\n",
    "new_stops = {}"
   ]
  },
  {
   "cell_type": "code",
   "execution_count": 8,
   "metadata": {},
   "outputs": [
    {
     "ename": "TypeError",
     "evalue": "string indices must be integers, not 'str'",
     "output_type": "error",
     "traceback": [
      "\u001b[0;31m---------------------------------------------------------------------------\u001b[0m",
      "\u001b[0;31mTypeError\u001b[0m                                 Traceback (most recent call last)",
      "Cell \u001b[0;32mIn[8], line 3\u001b[0m\n\u001b[1;32m      1\u001b[0m \u001b[38;5;66;03m# Add route_ids to each stop\u001b[39;00m\n\u001b[1;32m      2\u001b[0m \u001b[38;5;28;01mfor\u001b[39;00m key, value \u001b[38;5;129;01min\u001b[39;00m stop_routes\u001b[38;5;241m.\u001b[39mitems():\n\u001b[0;32m----> 3\u001b[0m     new_stops\u001b[38;5;241m.\u001b[39mupdate({ key: jsonified[key] \u001b[38;5;241m+\u001b[39m { \u001b[38;5;124m'\u001b[39m\u001b[38;5;124mroute_ids\u001b[39m\u001b[38;5;124m'\u001b[39m: value } })\n\u001b[1;32m      5\u001b[0m \u001b[38;5;66;03m# Write the JSON to a file\u001b[39;00m\n\u001b[1;32m      6\u001b[0m \u001b[38;5;28;01mwith\u001b[39;00m \u001b[38;5;28mopen\u001b[39m(\u001b[38;5;124m'\u001b[39m\u001b[38;5;124m./output/stops.json\u001b[39m\u001b[38;5;124m'\u001b[39m, \u001b[38;5;124m'\u001b[39m\u001b[38;5;124mw\u001b[39m\u001b[38;5;124m'\u001b[39m) \u001b[38;5;28;01mas\u001b[39;00m f:\n",
      "\u001b[0;31mTypeError\u001b[0m: string indices must be integers, not 'str'"
     ]
    }
   ],
   "source": [
    "# Add route_ids to each stop\n",
    "for key, value in stop_routes.items():\n",
    "    new_stops.update({ key: jsonified[key] + { 'route_ids': value } })\n",
    "\n",
    "# Write the JSON to a file\n",
    "with open('./output/stops.json', 'w') as f:\n",
    "    f.write(jsonified)\n",
    "\n"
   ]
  },
  {
   "cell_type": "code",
   "execution_count": null,
   "metadata": {},
   "outputs": [],
   "source": []
  }
 ],
 "metadata": {
  "kernelspec": {
   "display_name": "base",
   "language": "python",
   "name": "python3"
  },
  "language_info": {
   "codemirror_mode": {
    "name": "ipython",
    "version": 3
   },
   "file_extension": ".py",
   "mimetype": "text/x-python",
   "name": "python",
   "nbconvert_exporter": "python",
   "pygments_lexer": "ipython3",
   "version": "3.11.7"
  }
 },
 "nbformat": 4,
 "nbformat_minor": 2
}
